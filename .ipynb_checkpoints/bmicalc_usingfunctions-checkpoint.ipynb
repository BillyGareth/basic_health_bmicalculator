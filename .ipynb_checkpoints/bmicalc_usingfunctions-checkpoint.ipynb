{
 "cells": [
  {
   "cell_type": "markdown",
   "metadata": {},
   "source": [
    "# <font color='orange'> BMI_Calculator<font>"
   ]
  },
  {
   "cell_type": "code",
   "execution_count": 3,
   "metadata": {},
   "outputs": [],
   "source": [
    "name1='Billy'\n",
    "height_m1=1.8\n",
    "weight_kg1=60\n",
    "\n",
    "name2='Gareth'\n",
    "height_m2=1.9\n",
    "weight_kg2=67\n",
    "\n",
    "name3='Otieno'\n",
    "height_m3=1.4\n",
    "weight_kg3=58"
   ]
  },
  {
   "cell_type": "code",
   "execution_count": 1,
   "metadata": {},
   "outputs": [],
   "source": [
    "def bmi_calculator(name,height_m,weight_kg):\n",
    "    bmi=(weight_kg/height_m**2)\n",
    "    print('bmi:')\n",
    "    print(bmi)\n",
    "    \n",
    "    if bmi <25:\n",
    "        return name + ' is not overweight'\n",
    "    else:\n",
    "        return name + ' is overweight'"
   ]
  },
  {
   "cell_type": "code",
   "execution_count": 11,
   "metadata": {},
   "outputs": [
    {
     "name": "stdout",
     "output_type": "stream",
     "text": [
      "bmi:\n",
      "18.51851851851852\n",
      "bmi:\n",
      "18.559556786703602\n",
      "bmi:\n",
      "29.59183673469388\n"
     ]
    }
   ],
   "source": [
    "res1=bmi_calculator(name1,height_m1,weight_kg1)\n",
    "res2=bmi_calculator(name2,height_m2,weight_kg2)\n",
    "res3=bmi_calculator(name3,height_m3,weight_kg3)"
   ]
  },
  {
   "cell_type": "code",
   "execution_count": 12,
   "metadata": {},
   "outputs": [
    {
     "name": "stdout",
     "output_type": "stream",
     "text": [
      "Billy is not overweight\n",
      "Gareth is not overweight\n",
      "Otieno is overweight\n"
     ]
    }
   ],
   "source": [
    "print(res1)\n",
    "print(res2)\n",
    "print(res3)"
   ]
  },
  {
   "cell_type": "markdown",
   "metadata": {},
   "source": [
    "# <font color='blue'> Prompts the User to enter information for diagnostics"
   ]
  },
  {
   "cell_type": "code",
   "execution_count": 3,
   "metadata": {},
   "outputs": [
    {
     "name": "stdin",
     "output_type": "stream",
     "text": [
      "Enter your name here:  fgh\n"
     ]
    },
    {
     "name": "stdout",
     "output_type": "stream",
     "text": [
      "You must be fgh, please say hi\n"
     ]
    },
    {
     "name": "stdin",
     "output_type": "stream",
     "text": [
      "Enter your body weight in kgs  78\n"
     ]
    },
    {
     "name": "stdout",
     "output_type": "stream",
     "text": [
      "Looks like you weighed 78kgs\n"
     ]
    },
    {
     "name": "stdin",
     "output_type": "stream",
     "text": [
      "Now key in your height in metres 1.2\n"
     ]
    },
    {
     "name": "stdout",
     "output_type": "stream",
     "text": [
      "You are 1.2mtrs tall\n",
      "bmi:\n",
      "54.16666666666667\n",
      "Sorry to say this but fgh is overweight\n"
     ]
    }
   ],
   "source": [
    "name_person=input('Enter your name here: ')\n",
    "print('You must be '+ name_person+ ', please say hi')\n",
    "\n",
    "weight_person=int(input('Enter your body weight in kgs '))\n",
    "print('Looks like you weighed '+ str(weight_person) + 'kgs')\n",
    "\n",
    "height_person=float(input('Now key in your height in metres'))\n",
    "print('You are '+ str(height_person) +'mtrs tall')\n",
    "\n",
    "def bmi_calculator(name_person,height_person,weight_person):\n",
    "    bmi=(weight_person/height_person**2)\n",
    "    print('bmi:')\n",
    "    print(bmi)\n",
    "    \n",
    "#def results(bmi):\n",
    "    if bmi < 15:\n",
    "        return 'Sorry to say this but '+name_person + ' is underweight'\n",
    "    if bmi <25:\n",
    "        return 'OMG '+name_person + ' is not overweight'\n",
    "    else:\n",
    "        return 'Sorry to say this but '+name_person + ' is overweight'\n",
    "    \n",
    "results=bmi_calculator(name_person,height_person,weight_person)\n",
    "print(results)"
   ]
  }
 ],
 "metadata": {
  "kernelspec": {
   "display_name": "Python 3",
   "language": "python",
   "name": "python3"
  },
  "language_info": {
   "codemirror_mode": {
    "name": "ipython",
    "version": 3
   },
   "file_extension": ".py",
   "mimetype": "text/x-python",
   "name": "python",
   "nbconvert_exporter": "python",
   "pygments_lexer": "ipython3",
   "version": "3.7.4"
  }
 },
 "nbformat": 4,
 "nbformat_minor": 4
}
